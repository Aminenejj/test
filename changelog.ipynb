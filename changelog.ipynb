{
 "cells": [
  {
   "cell_type": "code",
   "execution_count": 1,
   "metadata": {},
   "source": [
    "#!pwsh\r\n",
    "## Set your own path !!\r\n",
    "cd  C:\\Users\\mcp\\Documents\\GitHub\\PowerShellNotebook\r\n",
    "import-module .\\PowerShellNotebook.psd1 -force\r\n",
    ""
   ],
   "outputs": []
  },
  {
   "cell_type": "markdown",
   "metadata": {},
   "source": [
    "# ConvertFrom-NotebookToMarkdown "
   ]
  },
  {
   "cell_type": "code",
   "execution_count": 1,
   "metadata": {},
   "source": [
    "#!pwsh\r\n",
    "ConvertFrom-NotebookToMarkdown -Path .\\__tests__\\DotNetInteractiveNotebooks\\TestWithInvokePS.ipynb -destination demo.md -Includeoutput"
   ],
   "outputs": [
    {
     "output_type": "execute_result",
     "data": {
      "text/plain": "\r\n"
     },
     "execution_count": 1,
     "metadata": {}
    },
    {
     "output_type": "execute_result",
     "data": {
      "text/plain": "\r\n"
     },
     "execution_count": 1,
     "metadata": {}
    },
    {
     "output_type": "execute_result",
     "data": {
      "text/plain": "    Directory: C:\\Users\\mcp\\Documents\\GitHub\\PowerShellNotebook\r\n"
     },
     "execution_count": 1,
     "metadata": {}
    },
    {
     "output_type": "execute_result",
     "data": {
      "text/plain": "\r\n"
     },
     "execution_count": 1,
     "metadata": {}
    },
    {
     "output_type": "execute_result",
     "data": {
      "text/plain": "Mode                 LastWriteTime         Length Name\r\n"
     },
     "execution_count": 1,
     "metadata": {}
    },
    {
     "output_type": "execute_result",
     "data": {
      "text/plain": "----                 -------------         ------ ----\r\n"
     },
     "execution_count": 1,
     "metadata": {}
    },
    {
     "output_type": "execute_result",
     "data": {
      "text/plain": "-a---          02/10/2020    08:15            595 demo.md\r\n"
     },
     "execution_count": 1,
     "metadata": {}
    },
    {
     "output_type": "execute_result",
     "data": {
      "text/plain": "\r\n"
     },
     "execution_count": 1,
     "metadata": {}
    }
   ]
  },
  {
   "cell_type": "markdown",
   "metadata": {},
   "source": [
    "## Changes\r\n",
    "1. Now Supports -Path or -Fullname as a the name of the source file\r\n",
    "2. Now Supports -Destination  (if not specified uses .\\\\\\<name\\>.ipynb)\r\n",
    "3. Now supports [switch]-IncludeOutput - Puts output in a \"preformated\" block - see also get-NotebookContent \r\n",
    "\r\n",
    "result will be \r\n",
    "```powershell\r\n",
    "$PSVersionTable\r\n",
    "```\r\n",
    "\r\n",
    "```\r\n",
    "Name                           Value\r\n",
    "----                           -----\r\n",
    "PSVersion                      7.0.0\r\n",
    "PSEdition                      Core\r\n",
    "GitCommitId                    7.0.0\r\n",
    "OS                             Microsoft Windows 10.0.19041\r\n",
    "Platform                       Win32NT\r\n",
    "PSCompatibleVersions           {1.0, 2.0, 3.0, 4.0…}\r\n",
    "PSRemotingProtocolVersion      2.3\r\n",
    "SerializationVersion           1.1.0.1\r\n",
    "WSManStackVersion              3.0\r\n",
    "```\r\n",
    "\r\n",
    "```powershell\r\n",
    "1..10 | % {\r\n",
    "    $_ * 2\r\n",
    "}\r\n",
    "```\r\n",
    "\r\n",
    "```\r\n",
    "2\r\n",
    "4\r\n",
    "6\r\n",
    "8\r\n",
    "10\r\n",
    "12\r\n",
    "14\r\n",
    "16\r\n",
    "18\r\n",
    "2\r\n",
    "```\r\n",
    "\r\n",
    "```powershell\r\n",
    "\r\n",
    "```\r\n",
    "\r\n",
    ""
   ]
  },
  {
   "cell_type": "markdown",
   "metadata": {},
   "source": [
    "# Export-NotebookToPowerShellScript "
   ]
  },
  {
   "cell_type": "code",
   "execution_count": 1,
   "metadata": {},
   "source": [
    "#!pwsh\r\n",
    "dir .\\__tests__\\DotNetInteractiveNotebooks\\*.ipynb | Export-NotebookToPowerShellScript -AsText -IncludeTextCells"
   ],
   "outputs": [
    {
     "output_type": "execute_result",
     "data": {
      "text/plain": ""
     },
     "execution_count": 1,
     "metadata": {}
    },
    {
     "output_type": "execute_result",
     "data": {
      "text/plain": "<#\n    Created from: C:\\Users\\mcp\\Documents\\GitHub\\PowerShellNotebook\\__tests__\\DotNetInteractiveNotebooks\\TestWithInvokePS.ipynb\n    Created by:   Export-NotebookToPowerShellScript\n    Created on:   02 October 2020 08:06\n#>\n\r\n"
     },
     "execution_count": 1,
     "metadata": {}
    },
    {
     "output_type": "execute_result",
     "data": {
      "text/plain": "$PSVersionTable\r\n"
     },
     "execution_count": 1,
     "metadata": {}
    },
    {
     "output_type": "execute_result",
     "data": {
      "text/plain": "<# #>\r\n"
     },
     "execution_count": 1,
     "metadata": {}
    },
    {
     "output_type": "execute_result",
     "data": {
      "text/plain": "1..10 | % {\n    $_ * 2\n}\r\n"
     },
     "execution_count": 1,
     "metadata": {}
    }
   ]
  },
  {
   "cell_type": "markdown",
   "metadata": {},
   "source": [
    "## Changes \r\n",
    "1.  Header changed to \r\n",
    "    * Align text\r\n",
    "    * Close gap between created by and created on\r\n",
    "    * Format date as _local long date_ so month is (long has month as words so unambiguous Previously date was culture invariant i.e. US-style 10/2/2020 which reads 10th Feb in the rest of the world. \r\n",
    "2. Now Supports piped input\r\n",
    "3. Now Supports -AsText swtich\r\n",
    "4. (Breaking) IncludeTextCells is now a switch, previously was boolean\r\n",
    "5. Now if two consequtive cells are code, outputs \"<# #>\" between them, and does not output an empty final cell (this would cause a <# #> at the end of files)\r\n",
    ""
   ]
  },
  {
   "cell_type": "markdown",
   "metadata": {},
   "source": [
    "# Get-NotebookContent"
   ]
  },
  {
   "cell_type": "code",
   "execution_count": 1,
   "metadata": {},
   "source": [
    "#!pwsh\r\n",
    "Get-NotebookContent .\\__tests__\\DotNetInteractiveNotebooks\\TestWithInvokePS.ipynb -Includeoutput -NoMarkdown "
   ],
   "outputs": [
    {
     "output_type": "execute_result",
     "data": {
      "text/plain": "\r\n"
     },
     "execution_count": 1,
     "metadata": {}
    },
    {
     "output_type": "execute_result",
     "data": {
      "text/plain": "NoteBookName           Type Source                   Output\r\n"
     },
     "execution_count": 1,
     "metadata": {}
    },
    {
     "output_type": "execute_result",
     "data": {
      "text/plain": "------------           ---- ------                   ------\r\n"
     },
     "execution_count": 1,
     "metadata": {}
    },
    {
     "output_type": "execute_result",
     "data": {
      "text/plain": "TestWithInvokePS.ipynb code $PSVersionTable          …\r\n"
     },
     "execution_count": 1,
     "metadata": {}
    },
    {
     "output_type": "execute_result",
     "data": {
      "text/plain": "TestWithInvokePS.ipynb code 1..10 | % {…             2…\r\n"
     },
     "execution_count": 1,
     "metadata": {}
    },
    {
     "output_type": "execute_result",
     "data": {
      "text/plain": "TestWithInvokePS.ipynb code                          \r\n"
     },
     "execution_count": 1,
     "metadata": {}
    },
    {
     "output_type": "execute_result",
     "data": {
      "text/plain": "\r\n"
     },
     "execution_count": 1,
     "metadata": {}
    }
   ]
  },
  {
   "cell_type": "markdown",
   "metadata": {},
   "source": [
    "## Changes \r\n",
    "1. Now has Aliases for JustCode and JustMarkdown and these two are mutually exclusive\r\n",
    "2. Now has -Include output switch. (can see the first Item of the second cell). Include output tries to merge multiple text output rows which .NET Interactive generates into a single block. It's been OK with what I've tested but it may need more work to make it properly robust\r\n",
    "\r\n",
    "**To do** Piping files in doesn't look like it will work."
   ]
  },
  {
   "cell_type": "markdown",
   "metadata": {},
   "source": [
    "# New-psNotebook    "
   ]
  },
  {
   "cell_type": "code",
   "execution_count": 1,
   "metadata": {},
   "source": [
    "#!pwsh\r\n",
    "$pssession =  New-PSSession -ComputerName localhost  -EnableNetworkAccess\r\n",
    "\r\n",
    "New-PSNotebook {\r\n",
    "    Add-NotebookCode \"#!About\" \r\n",
    "    Add-NotebookCode -Verbose '#!time\r\n",
    "foreach ($i in 1..3) {$i; Sleep 1}' \r\n",
    "}  -NoteBookName demo.ipynb -DotNetInteractive -IncludeCodeResults -RunSpace $pssession.Runspace\r\n",
    "\r\n",
    "Remove-PSSession $pssession\r\n",
    "\r\n",
    "#So I can paste the result \r\n",
    "ConvertFrom-NotebookToMarkdown .\\demo.ipynb -Includeoutput -AsText | clip"
   ],
   "outputs": [
    {
     "output_type": "execute_result",
     "data": {
      "text/plain": "\u001b[93mVERBOSE: 1\r\n2\r\n3\r\n\nWall time 3,086ms\u001b[0m\r\n"
     },
     "execution_count": 1,
     "metadata": {}
    }
   ]
  },
  {
   "cell_type": "markdown",
   "metadata": {},
   "source": [
    "## Changes \r\n",
    "1. If `New-PSNotebook` is told to include code results `Add-NotebookCode` sends code results to verbose.\r\n",
    "2. If not including code results `Add-NotebookCode` can be given a complex object not just a text stream to include in output. This needs more testing but is designed to support HTML blocks and similar.  \r\n",
    "3. Now supports .NET-Interactve format notebooks (moved the templates to the top of PowerShellNotebookDSL.ps1).\r\n",
    "4. Now supports being passed a runspace - remoting FTW !\r\n",
    "5. Now takes the absence of a notebookname as impying `-AsText`(in the code block above I could omit the notebook name go straight to | clip without saving a file ). Previously it loooked like specifying neither would cause the file to be named just \".ipynb\" \r\n",
    "6. Understands *magic commands* : #!time, #!about (both processed) and #!pwsh (removed).\r\n",
    "\r\n",
    "Coded above put built this notebook:\r\n",
    "```powershell\r\n",
    "#!About\r\n",
    "```\r\n",
    "\r\n",
    "```\r\n",
    "PowerShell 5.1.19041.1 on FLATFISH, Microsoft Windows NT 10.0.19041.0\r\n",
    "```\r\n",
    "\r\n",
    "```powershell\r\n",
    "#!time\r\n",
    "foreach ($i in 1..3) {$i; Sleep 1}\r\n",
    "```\r\n",
    "\r\n",
    "```\r\n",
    "1\r\n",
    "2\r\n",
    "3\r\n",
    "\r\n",
    "Wall time 3,116ms\r\n",
    "```\r\n",
    "\r\n",
    ""
   ]
  }
 ],
 "metadata": {
  "kernelspec": {
   "display_name": ".NET (C#)",
   "language": "C#",
   "name": ".net-csharp"
  },
  "language_info": {
   "file_extension": ".cs",
   "mimetype": "text/x-csharp",
   "name": "C#",
   "pygments_lexer": "csharp",
   "version": "8.0"
  }
 },
 "nbformat": 4,
 "nbformat_minor": 4
}