{
    "metadata": {
        "kernelspec": {
            "name": "powershell",
            "display_name": "PowerShell"
        },
        "language_info": {
            "name": "powershell",
            "codemirror_mode": "shell",
            "mimetype": "text/x-sh",
            "file_extension": ".ps1"
        }
    },
    "nbformat_minor": 2,
    "nbformat": 4,
    "cells": [
        {
            "cell_type": "markdown",
            "source": [
                "# Chapter 1"
            ],
            "metadata": {
                "azdata_cell_guid": "b6b34a8a-c526-4d12-9c2c-5e700360ddd9"
            }
        },
        {
            "cell_type": "markdown",
            "source": [
                "stuff\r\n",
                "\r\n",
                ""
            ],
            "metadata": {
                "azdata_cell_guid": "e67964ea-dd40-4aaa-a056-abf961fd3074"
            }
        },
        {
            "cell_type": "code",
            "source": [
                "foreach ($item in 1..10) {\r\n",
                "    $item\r\n",
                "}"
            ],
            "metadata": {
                "azdata_cell_guid": "f0731c45-5d3d-4af0-928e-40a7a5ca013a"
            },
            "outputs": [],
            "execution_count": 0
        }
    ]
}