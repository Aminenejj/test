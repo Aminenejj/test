{
    "metadata": {
        "kernelspec": {
            "name": "powershell",
            "display_name": "PowerShell"
        },
        "language_info": {
            "name": "powershell",
            "codemirror_mode": "shell",
            "mimetype": "text/x-sh",
            "file_extension": ".ps1"
        }
    },
    "nbformat_minor": 2,
    "nbformat": 4,
    "cells": [
        {"cell_type":"markdown","source":"# Chapter 1"},{"cell_type":"markdown","source":"stuff\r\n\r\n"},{
  "cell_type": "code",
  "source": "foreach ($item in 1..10) {\r\n    $item\r\n}\r\n",
  "metadata": {
    "azdata_cell_guid": "3db72df2-75e0-46d9-83d2-48cc19f0db18"
  },
  "outputs": [
    {
      "output_type": "stream",
      "text": "1\r\n2\r\n3\r\n4\r\n5\r\n6\r\n7\r\n8\r\n9\r\n10\r\n",
      "name": "stdout"
    }
  ]
}
    ]
}
