{
    "metadata": {
        "kernelspec": {
            "name": "powershell",
            "display_name": "PowerShell"
        },
        "language_info": {
            "name": "powershell",
            "codemirror_mode": "shell",
            "mimetype": "text/x-sh",
            "file_extension": ".ps1"
        }
    },
    "nbformat_minor": 2,
    "nbformat": 4,
    "cells": [
        {
        	"cell_type":  "code",
        	"source":  "8+12"
        },
        {
        	"cell_type":  "code",
        	"source":  "8+3"
        },
        {
        	"cell_type":  "code",
        	"source":  "$a=3*7\r\n$a"
        },
        {"cell_type":"markdown","source":"## Math\r\n\r\n- show addition\r\n- show other\r\n"}
    ]
}