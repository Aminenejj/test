{
    "metadata": {
        "kernelspec": {
            "name": "powershell",
            "display_name": "PowerShell"
        },
        "language_info": {
            "name": "powershell",
            "codemirror_mode": "shell",
            "mimetype": "text/x-sh",
            "file_extension": ".ps1"
        }
    },
    "nbformat_minor": 2,
    "nbformat": 4,
    "cells": [
        {
            "cell_type": "markdown",
            "source": [
                "Get first 10 process"
            ],
            "metadata": {
                "azdata_cell_guid": "e04ff489-861c-46da-b13d-ebc686bd7d90"
            }
        },
        {
            "cell_type": "code",
            "source": [
                "ps | select -first 10"
            ],
            "metadata": {
                "azdata_cell_guid": "bd9e51f5-e9c7-4784-bab4-f873692deb97"
            },
            "outputs": [],
            "execution_count": null
        },
        {
            "cell_type": "markdown",
            "source": [
                "Get first 10 services"
            ],
            "metadata": {
                "azdata_cell_guid": "05f8b72a-674c-4f94-a233-14f4ff078d3c"
            }
        },
        {
            "cell_type": "code",
            "source": [
                "gsv | select -first 10"
            ],
            "metadata": {
                "azdata_cell_guid": "93670f13-708f-42ce-b804-d0a25cdd3eb7"
            },
            "outputs": [],
            "execution_count": null
        },
        {
            "cell_type": "markdown",
            "source": [
                "Create a function"
            ],
            "metadata": {
                "azdata_cell_guid": "94f6b887-f5f3-4275-bee4-fbfde27efa5d"
            }
        },
        {
            "cell_type": "code",
            "source": [
                "function SayHello($p) {\"Hello $p\"}"
            ],
            "metadata": {
                "azdata_cell_guid": "c63c950f-a629-4bd3-bc9b-3be9b79c43fa"
            },
            "outputs": [],
            "execution_count": null
        },
        {
            "cell_type": "markdown",
            "source": [
                "Use the function"
            ],
            "metadata": {
                "azdata_cell_guid": "bbd33eb6-5e62-439d-a7c5-7f141d00335a"
            }
        },
        {
            "cell_type": "code",
            "source": [
                "SayHello World"
            ],
            "metadata": {
                "azdata_cell_guid": "92eb1f8a-01d8-4b30-af9f-56c25b728eb5"
            },
            "outputs": [],
            "execution_count": null
        }
    ]
}