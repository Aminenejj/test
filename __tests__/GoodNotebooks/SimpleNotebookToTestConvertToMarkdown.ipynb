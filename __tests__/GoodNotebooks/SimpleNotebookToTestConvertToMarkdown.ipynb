{
    "metadata": {
        "kernelspec": {
            "name": "powershell",
            "display_name": "PowerShell"
        },
        "language_info": {
            "name": "powershell",
            "codemirror_mode": "shell",
            "mimetype": "text/x-sh",
            "file_extension": ".ps1"
        }
    },
    "nbformat_minor": 2,
    "nbformat": 4,
    "cells": [
        {
            "cell_type": "markdown",
            "source": [
                "# Test for converting a PS Notebook to Markdown"
            ],
            "metadata": {
                "azdata_cell_guid": "a2220b8c-8013-4306-bb38-fca3f5b897c7"
            }
        },
        {
            "cell_type": "code",
            "source": [
                "1..5 | % {\r\n",
                "    $_ * 2\r\n",
                "}"
            ],
            "metadata": {
                "azdata_cell_guid": "486f57d2-18e0-42be-ac61-46bdd65ba4aa"
            },
            "outputs": [],
            "execution_count": 0
        },
        {
            "cell_type": "markdown",
            "source": [
                "## End of PS Notebook"
            ],
            "metadata": {
                "azdata_cell_guid": "50b56e5f-5a71-4a1f-9c0a-cbf290c1cc1f"
            }
        }
    ]
}