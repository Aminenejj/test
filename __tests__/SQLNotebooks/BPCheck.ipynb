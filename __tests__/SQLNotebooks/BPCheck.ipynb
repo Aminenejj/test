
metadata                       nbformat_minor nbformat cells
--------                       -------------- -------- -----
@{kernelspec=; language_info=}              2        4 {@{cell_type=markdown; source=BP Check READ ME - http://aka.ms/BPCheck;…

