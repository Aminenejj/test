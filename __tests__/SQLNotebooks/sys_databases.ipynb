{
    "metadata": {
        "kernelspec": {
            "name": "sql",
            "display_name": "SQL"
        },
        "language_info": {
            "name": "sql",
            "codemirror_mode": "shell",
            "mimetype": "text/x-sh",
            "file_extension": ".sql"
        }
    },
    "nbformat_minor": 2,
    "nbformat": 4,
    "cells": [
        {
  "cell_type": "code",
  "source": [
    "SELECT SYSDATETIME()\r\n"
  ],
  "metadata": {
    "azdata_cell_guid": "413a2c59-ca9a-440b-87ac-502f0506b51e"
  },
  "outputs": [
    {
      "output_type": "stream",
      "text": "",
      "name": "stdout"
    }
  ]
},{"cell_type":"markdown","metadata":{},"source":["\r   \n      Created from: .\\sys_databases.ipynb\r   \n  \r   \n      Created by: Export-NotebookToSqlScript\r   \n      Created on: 07/27/2020 18:20:25    \r   \n  "]},{"cell_type":"markdown","metadata":{},"source":[" First, find out how many databases are on this instance. "]},{
  "cell_type": "code",
  "source": [
    "\r\n\r\nSELECT *\r\n  FROM sys.databases\r\n\r\n"
  ],
  "metadata": {
    "azdata_cell_guid": "f23c0758-f8e2-492d-8634-616840f74952"
  },
  "outputs": [
    {
      "output_type": "stream",
      "text": "",
      "name": "stdout"
    }
  ]
},{"cell_type":"markdown","metadata":{},"source":[" Next check out all the processes currently running, using sys.processes. "]},{
  "cell_type": "code",
  "source": [
    "\r\n\r\nSELECT *\r\n  FROM sys.processes\r\n\r\n"
  ],
  "metadata": {
    "azdata_cell_guid": "67004b57-2172-4439-84e9-1ba5791965b6"
  },
  "outputs": [
    {
      "output_type": "stream",
      "text": "",
      "name": "stdout"
    }
  ]
},{"cell_type":"markdown","metadata":{},"source":[" Disk space subsection "]},{
  "cell_type": "code",
  "source": [
    "\r\n\r\nSET NOCOUNT ON;\r\nSET ANSI_WARNINGS ON;\r\nSET QUOTED_IDENTIFIER ON;\r\n\r\nDECLARE @sqlmajorver int\r\nDECLARE @ErrorMessage NVARCHAR(4000)\r\n\r\nSELECT @sqlmajorver = CONVERT(int, (@@microsoftversion / 0x1000000) & 0xff);\r\n\r\nIF @sqlmajorver > 9\r\nBEGIN\r\n\tSELECT DISTINCT 'Information' AS [Category], 'Disk_Space' AS [Information], vs.logical_volume_name,\r\n\t\tvs.volume_mount_point, vs.file_system_type, CONVERT(int,vs.total_bytes/1048576.0) AS TotalSpace_MB,\r\n\t\tCONVERT(int,vs.available_bytes/1048576.0) AS FreeSpace_MB, vs.is_compressed\r\n\tFROM sys.master_files mf\r\n\tCROSS APPLY sys.dm_os_volume_stats(mf.database_id, mf.[file_id]) vs\r\n\tORDER BY FreeSpace_MB ASC\r\nEND;"
  ],
  "metadata": {
    "azdata_cell_guid": "4959e824-8ec9-4d6a-9107-a377bd4ab58d"
  },
  "outputs": [
    {
      "output_type": "stream",
      "text": "",
      "name": "stdout"
    }
  ]
}
    ]
}
