{
    "metadata": {
        "kernelspec": {
            "name": "SQL",
            "display_name": "SQL",
            "language": "sql"
        },
        "language_info": {
            "name": "sql",
            "version": ""
        }
    },
    "nbformat_minor": 2,
    "nbformat": 4,
    "cells": [
        {
            "cell_type": "markdown",
            "source": [
                " First, find out how many databases are on this instance. "
            ],
            "metadata": {
                "azdata_cell_guid": "45baa1a5-3365-41e2-ab87-70936c3f22b1"
            }
        },
        {
            "cell_type": "code",
            "source": [
                "SELECT *\r\n",
                "  FROM sys.databases"
            ],
            "metadata": {
                "azdata_cell_guid": "f23c0758-f8e2-492d-8634-616840f74952"
            },
            "outputs": [
                {
                    "output_type": "stream",
                    "name": "stdout",
                    "text": ""
                }
            ],
            "execution_count": null
        },
        {
            "cell_type": "markdown",
            "source": [
                " Next check out all the processes currently running, using sys.processes. "
            ],
            "metadata": {
                "azdata_cell_guid": "639560d4-3522-4f6a-88d3-9b32838f0234"
            }
        },
        {
            "cell_type": "code",
            "source": [
                "SELECT *\r\n",
                "  FROM sys.processes"
            ],
            "metadata": {
                "azdata_cell_guid": "67004b57-2172-4439-84e9-1ba5791965b6"
            },
            "outputs": [
                {
                    "output_type": "stream",
                    "name": "stdout",
                    "text": ""
                }
            ],
            "execution_count": null
        },
        {
            "cell_type": "markdown",
            "source": [
                "Check the current time."
            ],
            "metadata": {
                "azdata_cell_guid": "ad6460f1-3214-4ed4-8ba2-4235a1d23ba2"
            }
        },
        {
            "cell_type": "code",
            "source": [
                "SELECT SYSDATETIME()"
            ],
            "metadata": {
                "azdata_cell_guid": "4959e824-8ec9-4d6a-9107-a377bd4ab58d"
            },
            "outputs": [
                {
                    "output_type": "stream",
                    "name": "stdout",
                    "text": ""
                }
            ],
            "execution_count": null
        }
    ]
}