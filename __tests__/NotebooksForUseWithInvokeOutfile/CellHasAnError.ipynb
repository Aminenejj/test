{
    "metadata": {
        "kernelspec": {
            "name": "powershell",
            "display_name": "PowerShell"
        },
        "language_info": {
            "name": "powershell",
            "codemirror_mode": "shell",
            "mimetype": "text/x-sh",
            "file_extension": ".ps1"
        }
    },
    "nbformat_minor": 2,
    "nbformat": 4,
    "cells": [
        {
            "cell_type": "code",
            "source": [
                "1/0"
            ],
            "metadata": {
                "azdata_cell_guid": "fff22dd1-8c9f-4a72-a760-9986d9647c07"
            },
            "outputs": [],
            "execution_count": null
        }
    ]
}