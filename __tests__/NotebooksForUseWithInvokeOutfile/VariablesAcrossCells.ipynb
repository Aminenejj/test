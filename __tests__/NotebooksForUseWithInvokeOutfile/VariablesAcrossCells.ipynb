{
    "metadata": {
        "kernelspec": {
            "name": "powershell",
            "display_name": "PowerShell"
        },
        "language_info": {
            "name": "powershell",
            "codemirror_mode": "shell",
            "mimetype": "text/x-sh",
            "file_extension": ".ps1"
        }
    },
    "nbformat_minor": 2,
    "nbformat": 4,
    "cells": [
        {
            "cell_type": "code",
            "source": [
                "$a = 3"
            ],
            "metadata": {
                "azdata_cell_guid": "fff22dd1-8c9f-4a72-a760-9986d9647c07"
            },
            "outputs": [],
            "execution_count": null
        },
        {
            "cell_type": "code",
            "source": [
                "$a*2"
            ],
            "metadata": {
                "azdata_cell_guid": "3b46bf84-4e55-4182-b1e3-1d20c8bc24c2"
            },
            "outputs": [],
            "execution_count": null
        }
    ]
}