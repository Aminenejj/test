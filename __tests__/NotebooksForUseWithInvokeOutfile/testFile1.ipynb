{
    "metadata": {
        "kernelspec": {
            "name": "powershell",
            "display_name": "PowerShell"
        },
        "language_info": {
            "name": "powershell",
            "codemirror_mode": "shell",
            "mimetype": "text/x-sh",
            "file_extension": ".ps1"
        }
    },
    "nbformat_minor": 2,
    "nbformat": 4,
    "cells": [
        {
            "cell_type": "markdown",
            "source": [
                "# Test Notebook"
            ],
            "metadata": {
                "azdata_cell_guid": "d0597b5b-aad0-45a8-adec-bbe20eabe4fc"
            }
        },
        {
            "cell_type": "code",
            "source": [
                "1..5"
            ],
            "metadata": {
                "azdata_cell_guid": "04ee7955-4a8c-4961-ac9e-8ae575515363"
            },
            "outputs": [],
            "execution_count": null
        }
    ]
}