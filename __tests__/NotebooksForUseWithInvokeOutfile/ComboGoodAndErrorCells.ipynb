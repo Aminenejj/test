{
    "metadata": {
        "kernelspec": {
            "name": "powershell",
            "display_name": "PowerShell"
        },
        "language_info": {
            "name": "powershell",
            "codemirror_mode": "shell",
            "mimetype": "text/x-sh",
            "file_extension": ".ps1"
        }
    },
    "nbformat_minor": 2,
    "nbformat": 4,
    "cells": [
        {
            "cell_type": "code",
            "source": [
                "$a = 2\r\n",
                "\r\n",
                "10*2"
            ],
            "metadata": {
                "azdata_cell_guid": "e33f9475-7ed4-48ea-b4b0-7bd344e3ea53"
            },
            "outputs": [],
            "execution_count": null
        },
        {
            "cell_type": "code",
            "source": [
                "1/0"
            ],
            "metadata": {
                "azdata_cell_guid": "fff22dd1-8c9f-4a72-a760-9986d9647c07"
            },
            "outputs": [],
            "execution_count": null
        },
        {
            "cell_type": "code",
            "source": [
                "40+$a"
            ],
            "metadata": {
                "azdata_cell_guid": "ae1b4f15-d066-4c5d-9df6-b925c68059c5"
            },
            "outputs": [],
            "execution_count": null
        }
    ]
}