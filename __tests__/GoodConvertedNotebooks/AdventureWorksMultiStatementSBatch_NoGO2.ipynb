﻿{
    "metadata": {
        "kernelspec": {
            "name": "sql",
            "display_name": "SQL"
        },
        "language_info": {
            "name": "sql",
            "codemirror_mode": "shell",
            "mimetype": "text/x-sh",
            "file_extension": ".sql"
        }
    },
    "nbformat_minor": 2,
    "nbformat": 4,
    "cells": [
        {"cell_type":"markdown","metadata":{},"source":[" Look up user and phone number by last name\r   \n  We match on first found in case of multiple\r   \n  "]},{
    "cell_type":  "code",
    "source":  [
                   "\r\ndeclare @phonenumber nvarchar(50)\r\ndeclare @lastname nvarchar(50)\r\ndeclare @busentityid INT\r\n\r\nset @lastname = \u0027Tamburello\u0027\r\n\r\nselect \r\ntop 1\r\n@busentityid = BusinessEntityID -- Will be used to lookup phone number\r\nfrom Person.Person\r\nwhere LastName = @lastname\r\n\r\n"
               ],
    "metadata":  {
                     "azdata_cell_guid":  "e62ad53e-ff64-49e9-acd2-71d455ac47c6"
                 },
    "outputs":  [
                    {
                        "name":  "stdout",
                        "output_type":  "stream",
                        "text":  ""
                    }
                ]
},{"cell_type":"markdown","metadata":{},"source":[" Only look for phone if we found the person\r   \n  -- Should usually be null or 1, values over 1 not really possible\r   \n  "]},{
    "cell_type":  "code",
    "source":  [
                   "\r\nif @busentityid is not null\r\nbegin\r\n\r\n   select \r\n      p.FirstName,\r\n      p.MiddleName,\r\n      p.LastName,\r\n      p.Suffix,\r\n      pp.PhoneNumber\r\n   from \r\n      Person.Person p\r\n      left join Person.PersonPhone pp\r\n      on p.BusinessEntityID = pp.BusinessEntityID\r\n   where \r\n      p.BusinessEntityID = @busentityid\r\n\r\n"
               ],
    "metadata":  {
                     "azdata_cell_guid":  "9e5e7e23-d114-4c6f-bad4-bebc1791a47a"
                 },
    "outputs":  [
                    {
                        "name":  "stdout",
                        "output_type":  "stream",
                        "text":  ""
                    }
                ]
},{"cell_type":"markdown","metadata":{},"source":[" Save the phonenumber from the selected user "]},{
    "cell_type":  "code",
    "source":  [
                   "\r\n   select \r\n      @phonenumber = PhoneNumber \r\n   from \r\n      Person.Person p\r\n      left join Person.PersonPhone pp\r\n      on p.BusinessEntityID = pp.BusinessEntityID\r\n   where\r\n      p.BusinessEntityID = @busentityid\r\n\r\nend\r\n\r\ngo \r\n\r\n-- Wait for 4 seconds total after go 2\r\nRAISERROR(\u0027waiting\u0027, 1,1) with nowait\r\nselect GETUTCDATE() as \u0027Waiting\u0027\r\nwaitfor delay \u002700:00:02\u0027\r\n\r\n-- note the Go 2\r\ngo\r\n\r\n-- This select statement returns the full customer address list\r\nselect \r\n    p.FirstName,\r\n    p.MiddleName,\r\n    p.LastName,\r\n    p.Suffix,\r\n    a.AddressLine1,\r\n    a.AddressLine2,  -- TODO: Should we concat line 1 and 2\r\n    a.City,\r\n    "
               ],
    "metadata":  {
                     "azdata_cell_guid":  "dcec6698-df18-48d1-9301-080c11a4e48b"
                 },
    "outputs":  [
                    {
                        "name":  "stdout",
                        "output_type":  "stream",
                        "text":  ""
                    }
                ]
},{"cell_type":"markdown","metadata":{},"source":["\r   \n      Debug stuff\r   \n      p.BusinessEntityID,\r   \n      bea.BusinessEntityID,\r   \n      bea.AddressID,\r   \n      a.AddressiD,\r   \n      sp.StateProvinceID,\r   \n      sp.StateProvinceID\r   \n      "]},{
    "cell_type":  "code",
    "source":  [
                   "\r\n    sp.StateProvinceCode, "
               ],
    "metadata":  {
                     "azdata_cell_guid":  "ce67717d-a7ff-4710-8d24-a129831c6cd2"
                 },
    "outputs":  [
                    {
                        "name":  "stdout",
                        "output_type":  "stream",
                        "text":  ""
                    }
                ]
},{"cell_type":"markdown","metadata":{},"source":[" TODO: Need to add country here too, join below "]},{
    "cell_type":  "code",
    "source":  [
                   "\r\n    a.PostalCode--,\r\n    --sp.CountryRegionCode \r\n from \r\n    Person.Person p\r\n    left join Person.BusinessEntityAddress bea  -- Used for joining, not selected from\r\n    on p.BusinessEntityID = bea.BusinessEntityID \r\n    left join Person.Address a \r\n    on bea.AddressID = a.AddressID\r\n    left join Person.StateProvince sp \r\n    on a.StateProvinceID = sp.StateProvinceID\r\n    "
               ],
    "metadata":  {
                     "azdata_cell_guid":  "401fab4b-69ac-46d7-9ca6-5e13eca3321e"
                 },
    "outputs":  [
                    {
                        "name":  "stdout",
                        "output_type":  "stream",
                        "text":  ""
                    }
                ]
},{"cell_type":"markdown","metadata":{},"source":[" Commenting out until the field is added\r   \n      left join Person.CountryRegion cr \r   \n      on sp.CountryRegionCode = cr.CountryRegionCode\r   \n      "]}
    ]
}
