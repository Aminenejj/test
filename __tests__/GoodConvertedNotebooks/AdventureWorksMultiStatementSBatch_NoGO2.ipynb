{
    "metadata": {
        "kernelspec": {
            "name": "sql",
            "display_name": "SQL"
        },
        "language_info": {
            "name": "sql",
            "codemirror_mode": "shell",
            "mimetype": "text/x-sh",
            "file_extension": ".sql"
        }
    },
    "nbformat_minor": 2,
    "nbformat": 4,
    "cells": [
        {"cell_type":"markdown","metadata":{},"source":[" Look up user and phone number by last name   \n  We match on first found in case of multiple   \n  "]},{
  "cell_type": "code",
  "source": [
    "declare @phonenumber nvarchar(50)\r\ndeclare @lastname nvarchar(50)\r\ndeclare @busentityid INT\r\n\r\nset @lastname = 'Tamburello'\r\n\r\nselect \r\ntop 1\r\n@busentityid = BusinessEntityID -- Will be used to lookup phone number\r\nfrom Person.Person\r\nwhere LastName = @lastname\r\n\r\n/* Only look for phone if we found the person\r\n-- Should usually be null or 1, values over 1 not really possible\r\n*/\r\nif @busentityid is not null\r\nbegin\r\n\r\n   select \r\n      p.FirstName,\r\n      p.MiddleName,\r\n      p.LastName,\r\n      p.Suffix,\r\n      pp.PhoneNumber\r\n   from \r\n      Person.Person p\r\n      left join Person.PersonPhone pp\r\n      on p.BusinessEntityID = pp.BusinessEntityID\r\n   where \r\n      p.BusinessEntityID = @busentityid\r\n\r\n/* Save the phonenumber from the selected user */\r\n   select \r\n      @phonenumber = PhoneNumber \r\n   from \r\n      Person.Person p\r\n      left join Person.PersonPhone pp\r\n      on p.BusinessEntityID = pp.BusinessEntityID\r\n   where\r\n      p.BusinessEntityID = @busentityid\r\n\r\nend"
  ],
  "metadata": {
    "azdata_cell_guid": "729e42ae-3c57-48a9-890b-768c6982b64c"
  },
  "outputs": [
    {
      "output_type": "stream",
      "name": "stdout",
      "text": ""
    }
  ]
},{"cell_type":"markdown","metadata":{},"source":["go \r   \n  \r   \n  -- Wait for 4 seconds total after go 2"]},{
  "cell_type": "code",
  "source": [
    "RAISERROR('waiting', 1,1) with nowait\r\nselect GETUTCDATE() as 'Waiting'\r\nwaitfor delay '00:00:02'"
  ],
  "metadata": {
    "azdata_cell_guid": "65bde348-4a0b-4c91-8ced-b91c84c42ec9"
  },
  "outputs": [
    {
      "output_type": "stream",
      "name": "stdout",
      "text": ""
    }
  ]
},{"cell_type":"markdown","metadata":{},"source":["-- note the Go 2 has been *removed*\r   \n  go\r   \n  \r   \n  -- This select statement returns the full customer address list"]},{
  "cell_type": "code",
  "source": [
    "select \r\n    p.FirstName,\r\n    p.MiddleName,\r\n    p.LastName,\r\n    p.Suffix,\r\n    a.AddressLine1,\r\n    a.AddressLine2,  -- TODO: Should we concat line 1 and 2\r\n    a.City,\r\n    /*\r\n    Debug stuff\r\n    p.BusinessEntityID,\r\n    bea.BusinessEntityID,\r\n    bea.AddressID,\r\n    a.AddressiD,\r\n    sp.StateProvinceID,\r\n    sp.StateProvinceID\r\n    */\r\n    sp.StateProvinceCode, /* TODO: Need to add country here too, join below */\r\n    a.PostalCode--,\r\n    --sp.CountryRegionCode \r\n from \r\n    Person.Person p\r\n    left join Person.BusinessEntityAddress bea  -- Used for joining, not selected from\r\n    on p.BusinessEntityID = bea.BusinessEntityID \r\n    left join Person.Address a \r\n    on bea.AddressID = a.AddressID\r\n    left join Person.StateProvince sp \r\n    on a.StateProvinceID = sp.StateProvinceID"
  ],
  "metadata": {
    "azdata_cell_guid": "aba3de77-b194-45f4-ba4c-7af9cac92a93"
  },
  "outputs": [
    {
      "output_type": "stream",
      "name": "stdout",
      "text": ""
    }
  ]
},{"cell_type":"markdown","metadata":{},"source":[" Commenting out until the field is added   \n      left join Person.CountryRegion cr    \n      on sp.CountryRegionCode = cr.CountryRegionCode   \n      "]}
    ]
}
