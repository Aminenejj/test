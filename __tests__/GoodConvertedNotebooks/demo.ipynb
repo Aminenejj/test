﻿{
    "metadata": {
        "kernelspec": {
            "name": "powershell",
            "display_name": "PowerShell"
        },
        "language_info": {
            "name": "powershell",
            "codemirror_mode": "shell",
            "mimetype": "text/x-sh",
            "file_extension": ".ps1"
        }
    },
    "nbformat_minor": 2,
    "nbformat": 4,
    "cells": [
        {"cell_type":"markdown","metadata":{},"source":["# Get first 10 process"]},{
    "cell_type":  "code",
    "source":  [
                   "ps | select -first 10"
               ],
    "metadata":  {
                     "azdata_cell_guid":  "094bb95b-99c7-4236-aae1-394f5f7ccd55"
                 },
    "outputs":  [
                    {
                        "name":  "stdout",
                        "output_type":  "stream",
                        "text":  ""
                    }
                ]
},{"cell_type":"markdown","metadata":{},"source":["# Get first 10 services"]},{
    "cell_type":  "code",
    "source":  [
                   "gsv | select -first 10"
               ],
    "metadata":  {
                     "azdata_cell_guid":  "9e31a902-e17a-4f15-b324-afc980cb82ab"
                 },
    "outputs":  [
                    {
                        "name":  "stdout",
                        "output_type":  "stream",
                        "text":  ""
                    }
                ]
},{"cell_type":"markdown","metadata":{},"source":["# Create a function"]},{
    "cell_type":  "code",
    "source":  [
                   "function SayHello($p) {\"Hello $p\"}"
               ],
    "metadata":  {
                     "azdata_cell_guid":  "b3725f67-2847-44b3-a4b8-abd5b0d5b78e"
                 },
    "outputs":  [
                    {
                        "name":  "stdout",
                        "output_type":  "stream",
                        "text":  ""
                    }
                ]
},{"cell_type":"markdown","metadata":{},"source":["# Use the function"]},{
    "cell_type":  "code",
    "source":  [
                   "SayHello World"
               ],
    "metadata":  {
                     "azdata_cell_guid":  "87b41c5a-f000-401a-b806-c156e7c6c059"
                 },
    "outputs":  [
                    {
                        "name":  "stdout",
                        "output_type":  "stream",
                        "text":  ""
                    }
                ]
}
    ]
}
