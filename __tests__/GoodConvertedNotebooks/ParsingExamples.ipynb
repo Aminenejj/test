﻿{
    "metadata": {
        "kernelspec": {
            "name": "powershell",
            "display_name": "PowerShell"
        },
        "language_info": {
            "name": "powershell",
            "codemirror_mode": "shell",
            "mimetype": "text/x-sh",
            "file_extension": ".ps1"
        }
    },
    "nbformat_minor": 2,
    "nbformat": 4,
    "cells": [
        {"cell_type":"markdown","metadata":{},"source":["# # This is file is an example of what _should_ happen when converting a .PS1 file to a .IPYNB file."]},{
    "cell_type":  "code",
    "source":  [
                   "ps | select -first 10"
               ],
    "metadata":  {
                     "azdata_cell_guid":  "60e9849a-c22f-4efc-9b52-e31a6365d550"
                 },
    "outputs":  [
                    {
                        "name":  "stdout",
                        "output_type":  "stream",
                        "text":  ""
                    }
                ]
},{"cell_type":"markdown","metadata":{},"source":["# Get first 10 services"]},{
    "cell_type":  "code",
    "source":  [
                   "gsv | select -first 10"
               ],
    "metadata":  {
                     "azdata_cell_guid":  "b32ad383-0f0d-4141-93df-153bc4da9a8d"
                 },
    "outputs":  [
                    {
                        "name":  "stdout",
                        "output_type":  "stream",
                        "text":  ""
                    }
                ]
},{"cell_type":"markdown","metadata":{},"source":["# Create a function"]},{
    "cell_type":  "code",
    "source":  [
                   "function SayHello($p) {\"Hello $p\"}"
               ],
    "metadata":  {
                     "azdata_cell_guid":  "46ded967-d569-48e7-a2c2-a41f8b32c0d2"
                 },
    "outputs":  [
                    {
                        "name":  "stdout",
                        "output_type":  "stream",
                        "text":  ""
                    }
                ]
},{"cell_type":"markdown","metadata":{},"source":["# Use the function"]},{
    "cell_type":  "code",
    "source":  [
                   "SayHello World"
               ],
    "metadata":  {
                     "azdata_cell_guid":  "3093f59a-75be-464e-9789-7d1dd7cdc276"
                 },
    "outputs":  [
                    {
                        "name":  "stdout",
                        "output_type":  "stream",
                        "text":  ""
                    }
                ]
}
    ]
}
