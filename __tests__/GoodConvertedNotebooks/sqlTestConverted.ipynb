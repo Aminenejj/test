{
    "metadata": {
        "kernelspec": {
            "name": "sql",
            "display_name": "SQL"
        },
        "language_info": {
            "name": "sql",
            "codemirror_mode": "shell",
            "mimetype": "text/x-sh",
            "file_extension": ".sql"
        }
    },
    "nbformat_minor": 2,
    "nbformat": 4,
    "cells": [
        {
  "cell_type": "code",
  "source": [
    "select DateDiff(MI,StartDate,EndDate) AS Timetaken,* FROM table1\r\nSELECT * FROM table2 WHERE id = 1"
  ],
  "metadata": {
    "azdata_cell_guid": "0f2f0f31-fa05-41c7-bb20-1f83f234ee3e"
  },
  "outputs": [
    {
      "output_type": "stream",
      "name": "stdout",
      "text": ""
    }
  ]
},{"cell_type":"markdown","metadata":{},"source":["GO"]},{"cell_type":"markdown","metadata":{},"source":[" Test1 "]},{"cell_type":"markdown","metadata":{},"source":[" Multiline test   \n  1   \n  2   \n  "]},{"cell_type":"markdown","metadata":{},"source":[" Test2 "]},{
  "cell_type": "code",
  "source": [
    "SELECT * FROM table3 where ID = 7"
  ],
  "metadata": {
    "azdata_cell_guid": "0dd78d7e-d3f7-42f9-b4c4-d4eabd617f36"
  },
  "outputs": [
    {
      "output_type": "stream",
      "name": "stdout",
      "text": ""
    }
  ]
},{"cell_type":"markdown","metadata":{},"source":["GO"]},{"cell_type":"markdown","metadata":{},"source":[" Test3 "]},{
  "cell_type": "code",
  "source": [
    "SELECT * FROM table4 where ID = 8"
  ],
  "metadata": {
    "azdata_cell_guid": "6f46d7c8-7c8f-4945-8995-95a90f1ba3ab"
  },
  "outputs": [
    {
      "output_type": "stream",
      "name": "stdout",
      "text": ""
    }
  ]
}
    ]
}
