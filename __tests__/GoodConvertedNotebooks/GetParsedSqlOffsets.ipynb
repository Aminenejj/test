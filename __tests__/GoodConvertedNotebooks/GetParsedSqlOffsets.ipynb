﻿{
    "metadata": {
        "kernelspec": {
            "name": "powershell",
            "display_name": "PowerShell"
        },
        "language_info": {
            "name": "powershell",
            "codemirror_mode": "shell",
            "mimetype": "text/x-sh",
            "file_extension": ".ps1"
        }
    },
    "nbformat_minor": 2,
    "nbformat": 4,
    "cells": [
        {
    "cell_type":  "code",
    "source":  [
                   "function Get-ParsedSqlOffsets{\r\n    [CmdletBinding()]\r\n    param(\r\n        $ScriptPath\r\n    )"
               ],
    "metadata":  {
                     "azdata_cell_guid":  "24d07b61-2359-4c81-8766-607fe4da68f5"
                 },
    "outputs":  [
                    {
                        "name":  "stdout",
                        "output_type":  "stream",
                        "text":  ""
                    }
                ]
},{"cell_type":"markdown","metadata":{},"source":["\u003c#################################################################################################\r   \n  Pre-reqs: Install the SqlServer module.\r   \n  #################################################################################################\u003e"]},{
    "cell_type":  "code",
    "source":  [
                   "Import-Module SqlServer\r\n$ScriptDom = Join-Path -Path (Get-Module -Name SqlServer).ModuleBase -ChildPath \u0027Microsoft.SqlServer.TransactSql.ScriptDom.dll\u0027\r\nif((Test-Path $ScriptDom) -eq $true ) {Add-Type -LiteralPath $ScriptDom}"
               ],
    "metadata":  {
                     "azdata_cell_guid":  "ff00ad39-ce3d-452a-900f-0dd16b9571a7"
                 },
    "outputs":  [
                    {
                        "name":  "stdout",
                        "output_type":  "stream",
                        "text":  ""
                    }
                ]
},{"cell_type":"markdown","metadata":{},"source":["\u003c#################################################################################################\r   \n  Qucik Helper-function to turn the file into a script fragment, using scriptdom.\r   \n  #################################################################################################\u003e"]},{
    "cell_type":  "code",
    "source":  [
                   "function Get-ParsedSql($ScriptPath){\r\n    [Microsoft.SqlServer.TransactSql.ScriptDom.TSql150Parser] $parser = new-object Microsoft.SqlServer.TransactSql.ScriptDom.TSql150Parser($false)\r\n    $Reader = New-Object -TypeName System.IO.StreamReader -ArgumentList $ScriptToParse\r\n    $Errors = $null\r\n    $ScriptFrag = $parser.Parse($Reader, [ref]$Errors)\r\n    return $ScriptFrag\r\n    }"
               ],
    "metadata":  {
                     "azdata_cell_guid":  "b05d1f90-709d-44fa-8b92-a2217daf07d2"
                 },
    "outputs":  [
                    {
                        "name":  "stdout",
                        "output_type":  "stream",
                        "text":  ""
                    }
                ]
},{"cell_type":"markdown","metadata":{},"source":["\u003c#################################################################################################\u003e"]},{
    "cell_type":  "code",
    "source":  [
                   "function Get-ScriptFragment($ScriptPath){\r\n[Microsoft.SqlServer.TransactSql.ScriptDom.TSql150Parser] $parser = new-object Microsoft.SqlServer.TransactSql.ScriptDom.TSql150Parser($false)\r\n$Reader = New-Object -TypeName System.IO.StreamReader -ArgumentList $ScriptPath\r\n$Errors = $null\r\n$ScriptFrag = $parser.Parse($Reader, [ref]$Errors)"
               ],
    "metadata":  {
                     "azdata_cell_guid":  "9ed4793a-a4e1-4516-adca-c34306e3f8f7"
                 },
    "outputs":  [
                    {
                        "name":  "stdout",
                        "output_type":  "stream",
                        "text":  ""
                    }
                ]
},{"cell_type":"markdown","metadata":{},"source":["# Look for MultilineComment within Statements"]},{
    "cell_type":  "code",
    "source":  [
                   "($ScriptFrag.ScriptTokenStream).where({$_.TokenType -eq \u0027MultilineComment\u0027})\r\n}"
               ],
    "metadata":  {
                     "azdata_cell_guid":  "ea53a7ff-3b77-4a01-8f74-31a46e5fde25"
                 },
    "outputs":  [
                    {
                        "name":  "stdout",
                        "output_type":  "stream",
                        "text":  ""
                    }
                ]
},{"cell_type":"markdown","metadata":{},"source":["\u003c#################################################################################################\r   \n  Checking for Batch length\r   \n  #################################################################################################\u003e"]},{
    "cell_type":  "code",
    "source":  [
                   "$s = Get-Content -Raw ( Resolve-Path $ScriptToParse )\r\n$ParsedSql = Get-ParsedSql $ScriptToParse\r\n$SqlBatches = @()\r\n$SqlBatch = @()\r\n$id=1\r\nforeach($Batch in $ParsedSql.Batches) {\r\n    $SqlBatch=[pscustomobject][Ordered]@{\r\n    StartOffset = $Batch.StartOffset;\r\n    StopOffset  = $Batch.StartOffset+$Batch.FragmentLength;\r\n    Length      = $Batch.FragmentLength;\r\n    StartColumn = $Batch.StartColumn;\r\n    BatchId     = $id;\r\n    BlockType   = \u0027Code\u0027;\r\n    Text        = $s.Substring($Batch.StartOffset, $Batch.FragmentLength)\r\n    }\r\n    $SqlBatches+=$SqlBatch\r\n    $id++\r\n}\r\n\r\n$ScriptFrags = Get-ScriptFragment -ScriptPath $ScriptToParse\r\n$Comments = @()\r\n$Comment = @()\r\nforeach($Frag in $ScriptFrags ) {\r\n    $Comment=[pscustomobject][Ordered]@{\r\n    StartOffset = $Frag.Offset;\r\n    StopOffset = $Frag.Offset+$Frag.Text.Length;\r\n    Length = $Frag.Text.Length;\r\n    StartColumn = $Frag.Column;\r\n    CommentLocation = $null;\r\n    BlockType = \u0027Comment\u0027;\r\n    Text = $Frag.Text\r\n    }\r\n\r\n    foreach($SqlBatch in $SqlBatches){\r\n\r\n    if($Comment.StartOffset -ge $SqlBatch.StartOffset -and $Comment.StartOffset -le $SqlBatch.StopOffset)\r\n    {$Comment.CommentLocation = \"Within SQL Batch $($SqlBatch.BatchId)\"}\r\n    else {if($Comment.CommentLocation -notlike \u0027*Within*\u0027){$Comment.CommentLocation = \"Outside\"}}\r\n    }\r\n    $Comments+=$Comment\r\n}"
               ],
    "metadata":  {
                     "azdata_cell_guid":  "0171128c-163b-4355-81bf-416fa945d393"
                 },
    "outputs":  [
                    {
                        "name":  "stdout",
                        "output_type":  "stream",
                        "text":  ""
                    }
                ]
},{"cell_type":"markdown","metadata":{},"source":["\u003c#################################################################################################\r   \n  This is the basic product.\r   \n  #################################################################################################\u003e"]},{
    "cell_type":  "code",
    "source":  [
                   "$NotebookBlocks = $SqlBatches + ($Comments | WHERE { $_.CommentLocation -eq \u0027Outside\u0027 })\r\n$NotebookBlocks | SORT StartOffset\r\n}"
               ],
    "metadata":  {
                     "azdata_cell_guid":  "26282d59-e102-4198-bb32-350ef9aa80ef"
                 },
    "outputs":  [
                    {
                        "name":  "stdout",
                        "output_type":  "stream",
                        "text":  ""
                    }
                ]
}
    ]
}
