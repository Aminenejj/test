﻿{
    "metadata": {
        "kernelspec": {
            "name": "powershell",
            "display_name": "PowerShell"
        },
        "language_info": {
            "name": "powershell",
            "codemirror_mode": "shell",
            "mimetype": "text/x-sh",
            "file_extension": ".ps1"
        }
    },
    "nbformat_minor": 2,
    "nbformat": 4,
    "cells": [
        {"cell_type":"markdown","source":"# Chapter 1"},{"cell_type":"markdown","source":""},{
    "cell_type":  "code",
    "source":  "1..10 | % {\r\n    \"Hello World\"\r\n}\r\n",
    "metadata":  {
                     "azdata_cell_guid":  "b23e03e0-3951-492d-9123-8c791d8b71e8"
                 },
    "outputs":  [
                    {
                        "name":  "stdout",
                        "output_type":  "stream",
                        "text":  "Hello World\r\nHello World\r\nHello World\r\nHello World\r\nHello World\r\nHello World\r\nHello World\r\nHello World\r\nHello World\r\nHello World\r\n"
                    }
                ]
}
    ]
}
