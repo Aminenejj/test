﻿{
    "metadata": {
        "kernelspec": {
            "name": "powershell",
            "display_name": "PowerShell"
        },
        "language_info": {
            "name": "powershell",
            "codemirror_mode": "shell",
            "mimetype": "text/x-sh",
            "file_extension": ".ps1"
        }
    },
    "nbformat_minor": 2,
    "nbformat": 4,
    "cells": [
        {"cell_type":"markdown","metadata":{},"source":["# Chapter 1"]},{"cell_type":"markdown","metadata":{},"source":["## PowerShell Notebooks - Executable Documents\r\n### Loops\r\n\r\n"]},{
    "cell_type":  "code",
    "source":  [
                   "1..5 | % {\r\n    $_ * 2\r\n}\r\n"
               ],
    "metadata":  {
                     "azdata_cell_guid":  "01db3468-1722-415b-a6ca-feb4ec9b9510"
                 },
    "outputs":  [
                    {
                        "name":  "stdout",
                        "output_type":  "stream",
                        "text":  "2\r\n4\r\n6\r\n8\r\n10\r\n"
                    }
                ]
}
    ]
}
