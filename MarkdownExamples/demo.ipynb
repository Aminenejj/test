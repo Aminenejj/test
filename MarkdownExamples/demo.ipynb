﻿{
    "metadata": {
        "kernelspec": {
            "name": "powershell",
            "display_name": "PowerShell"
        },
        "language_info": {
            "name": "powershell",
            "codemirror_mode": "shell",
            "mimetype": "text/x-sh",
            "file_extension": ".ps1"
        }
    },
    "nbformat_minor": 2,
    "nbformat": 4,
    "cells": [
        {"cell_type":"markdown","source":"# Chapter 1"},{"cell_type":"markdown","source":"## Simple PowerShell example\r\n\r\nPrints *Hello World*\r\n\r\n"},{
    "cell_type":  "code",
    "source":  "\"Hello World\"\r\n",
    "metadata":  {
                     "azdata_cell_guid":  "402f5bd7-d02b-4197-85c7-cebca175a742"
                 },
    "outputs":  [
                    {
                        "name":  "stdout",
                        "output_type":  "stream",
                        "text":  "Hello World\r\n"
                    }
                ]
},{"cell_type":"markdown","source":"\r\n"}
    ]
}
