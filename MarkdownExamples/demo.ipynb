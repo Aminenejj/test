﻿{
    "metadata": {
        "kernelspec": {
            "name": "powershell",
            "display_name": "PowerShell"
        },
        "language_info": {
            "name": "powershell",
            "codemirror_mode": "shell",
            "mimetype": "text/x-sh",
            "file_extension": ".ps1"
        }
    },
    "nbformat_minor": 2,
    "nbformat": 4,
    "cells": [
        {"cell_type":"markdown","source":"# Chapter 1"},{"cell_type":"markdown","source":""},{
    "cell_type":  "code",
    "source":  "\"Hello World\"\r\n",
    "metadata":  {
                     "azdata_cell_guid":  "b4f00f22-c6d7-4cfa-80e3-e4f946f6d44a"
                 },
    "outputs":  [
                    {
                        "name":  "stdout",
                        "output_type":  "stream",
                        "text":  "Hello World\r\n"
                    }
                ]
}
    ]
}
